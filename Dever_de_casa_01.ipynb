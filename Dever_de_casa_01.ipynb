{
  "nbformat": 4,
  "nbformat_minor": 0,
  "metadata": {
    "colab": {
      "provenance": [],
      "mount_file_id": "1ucwRal-5OxBTDdl12VXKxYnKADsFDSgc",
      "authorship_tag": "ABX9TyOWGq3PBK1IuxkYwjJgb1+Y",
      "include_colab_link": true
    },
    "kernelspec": {
      "name": "python3",
      "display_name": "Python 3"
    },
    "language_info": {
      "name": "python"
    }
  },
  "cells": [
    {
      "cell_type": "markdown",
      "metadata": {
        "id": "view-in-github",
        "colab_type": "text"
      },
      "source": [
        "<a href=\"https://colab.research.google.com/github/LetMellod/aprendizagem_de_maquina/blob/develop/Dever_de_casa_01.ipynb\" target=\"_parent\"><img src=\"https://colab.research.google.com/assets/colab-badge.svg\" alt=\"Open In Colab\"/></a>"
      ]
    },
    {
      "cell_type": "code",
      "execution_count": null,
      "metadata": {
        "id": "py7_iZxCsw31",
        "colab": {
          "base_uri": "https://localhost:8080/"
        },
        "outputId": "dfc72360-462a-4d4f-b271-0b7058319ca8"
      },
      "outputs": [
        {
          "output_type": "stream",
          "name": "stdout",
          "text": [
            "Generating locales (this might take a while)...\n",
            "Generation complete.\n",
            "\u001b[1mdpkg-trigger:\u001b[0m \u001b[1;31merror:\u001b[0m must be called from a maintainer script (or with a --by-package option)\n",
            "\n",
            "Type dpkg-trigger --help for help about this utility.\n",
            "Generating locales (this might take a while)...\n",
            "  en_US.UTF-8... done\n",
            "  pt_BR.ISO-8859-1... done\n",
            "Generation complete.\n",
            "dpkg-query: package 'pt_br' is not installed and no information is available\n",
            "Use dpkg --info (= dpkg-deb --info) to examine archive files.\n",
            "/usr/sbin/dpkg-reconfigure: pt_BR is not installed\n"
          ]
        }
      ],
      "source": [
        "# Importar os módulos do sistema operacional\n",
        "import os\n",
        "import locale\n",
        "\n",
        "# Instalar pt_BR\n",
        "!/usr/share/locales/install-language-pack pt_BR\n",
        "!dpkg-reconfigure locales pt_BR\n",
        "\n",
        "# Reiniciar o processo Python\n",
        "os.kill(os.getpid(), 9)"
      ]
    },
    {
      "cell_type": "code",
      "source": [
        "# Definições e funções para todos os exemplos\n",
        "# encoding: iso-8859-1\n",
        "\n",
        "from datetime import datetime\n",
        "import random\n",
        "\n",
        "\n",
        "\n",
        "# Ajustando a localização para o Brasil\n",
        "import os\n",
        "import locale\n",
        "locale.setlocale(locale.LC_ALL, 'pt_BR')\n",
        "from datetime import datetime\n",
        "import pytz\n",
        "\n",
        "import pandas as pd\n",
        "\n",
        "# Define o fuso horário para o Brasil (Brasília)\n",
        "con_fuso_horario = pytz.timezone(\"America/Sao_Paulo\")\n",
        "\n",
        "conSeparador= \"\\nXXXXXXXXXXXXX---XXXXXXXXXXXXX\\n\"\n",
        "\n",
        "# Função formatar tempo de execução (dado tempo de inicio e fim, retorna h:m:milisegundos formatado)\n",
        "def formata_tempo_execucao (dttInicio, dttfim):\n",
        "    strTempo = dttfim - dttInicio\n",
        "    str_tempo_execucao_formatado = \"{:02d}:{:02d}.{:06d}\".format(\n",
        "    strTempo.seconds // 60,  # Minutos\n",
        "    strTempo.seconds % 60,  # Segundos\n",
        "    strTempo.microseconds  # Microsegundos\n",
        "    )\n",
        "    return str_tempo_execucao_formatado\n",
        "\n",
        "def formata_data(dttParametro):\n",
        "  return dttParametro.strftime(\"%d/%m/%Y - %H:%M:%S.%f\")\n",
        "\n",
        "def formata_numero(numero):\n",
        "    return locale.format_string(\"%d\", numero, grouping=True)\n",
        "\n",
        "# Cria um array do tamanho intElementosArray, valores inteiros entre intMin e intMax)\n",
        "def montar_array (intElementosArray,intMin, intMax):\n",
        "  x = 0\n",
        "  array = []\n",
        "  while x < intTamArray:\n",
        "    intElementosArray = random.randint(intMin,intMax)\n",
        "    array.append (intElementosArray)\n",
        "    x += 1\n",
        "  return (array)\n",
        "\n",
        "def ler_inteiro (strMensagem):\n",
        "  while True:\n",
        "    try:      # Se nenhuma exceção ocorrer, a cláusula except é ignorada e a execução da instrução try é finalizada\n",
        "      tamanho = int(input(strMensagem))\n",
        "      break  # Se a entrada for válida, sai do loop e finaliza o programa\n",
        "    except ValueError:\n",
        "      print(\"Erro: Por favor, digite um número inteiro valido.\")\n",
        "  return tamanho\n",
        "\n",
        "\n",
        "def carregar_array():\n",
        "    arrMeuArray = []\n",
        "    while True:\n",
        "        entrada = input(\"Digite um número inteiro para o array (-1 para sair): \")\n",
        "        try:\n",
        "            numero = int(entrada)\n",
        "        except ValueError:\n",
        "            print(\"Por favor, digite um número inteiro válido.\")\n",
        "            continue\n",
        "        if numero == -1:\n",
        "            break\n",
        "        arrMeuArray.append(numero)\n",
        "        print (f\"O array atual tem {str(len(arrMeuArray))}. Seu conteúdo é \\n\")\n",
        "        print (arrMeuArray)\n",
        "    return arrMeuArray\n",
        "\n",
        "def marcar_inicio (strMensagem):\n",
        "  dttInicio = datetime.now(con_fuso_horario)\n",
        "  dttInicioFormatado = formata_data(dttInicio)\n",
        "  print(f\"Iniciando {strMensagem} as : \" + str(dttInicioFormatado))\n",
        "  return dttInicio\n",
        "\n",
        "def marcar_fim (strMensagem):\n",
        "  dttFim = datetime.now(con_fuso_horario)\n",
        "  dttFimFormatado = formata_data (dttFim)\n",
        "  print(f\"Finalizando {strMensagem} as : \" + str(dttFimFormatado))\n",
        "  return dttFim\n",
        "\n",
        "def ler_arquivo_csv_para_lista(nome_arquivo):\n",
        "    try:\n",
        "        dados = pd.read_csv(nome_arquivo)\n",
        "        return dados.values.tolist()  # Converte o DataFrame para uma lista de listas\n",
        "    except FileNotFoundError:\n",
        "        print(f\"Erro: Arquivo '{nome_arquivo}' não encontrado.\")\n",
        "        return None"
      ],
      "metadata": {
        "id": "OZsTL2sxNYQr"
      },
      "execution_count": 1,
      "outputs": []
    },
    {
      "cell_type": "code",
      "source": [
        "dadoscsv = pd.read_csv('/content/dados.dever.1 - Página1.csv')\n",
        "dadoscsv.head()\n",
        "\n",
        "try:\n",
        "  N = int(input(\"Digite o número do registro que deseja visualizar: \"))\n",
        "except ValueError:\n",
        "    print(\"Por favor, insira um número válido.\")\n",
        "    exit()\n",
        "\n",
        "if N < 0 or N >= len(dadoscsv):\n",
        "    print(f\"Registro {N} não encontrado. O arquivo contém {len(dadoscsv)} registros.\")\n",
        "    exit()\n",
        "\n",
        "registro = dadoscsv.iloc[N]\n",
        "\n",
        "registro_concatenado = \"; \".join([f\"{coluna}: {valor}\" for coluna, valor in registro.items()])\n",
        "\n",
        "print(registro_concatenado)"
      ],
      "metadata": {
        "id": "ATnv2TaYNkC4"
      },
      "execution_count": null,
      "outputs": []
    },
    {
      "cell_type": "code",
      "source": [],
      "metadata": {
        "id": "m_aZHKhDVgyK"
      },
      "execution_count": null,
      "outputs": []
    }
  ]
}
